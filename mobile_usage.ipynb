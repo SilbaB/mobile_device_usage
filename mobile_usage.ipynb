{
 "cells": [
  {
   "cell_type": "code",
   "execution_count": 1,
   "id": "7ae39663-e198-4810-af3f-2e6a69bf2d69",
   "metadata": {},
   "outputs": [],
   "source": [
    "import pandas as pd\n",
    "import numpy as np\n",
    "import matplotlib.pyplot as plt\n",
    "import seaborn as sns"
   ]
  },
  {
   "cell_type": "code",
   "execution_count": 2,
   "id": "70b4ad05-f42b-42c1-a3ca-009f6df29efe",
   "metadata": {},
   "outputs": [],
   "source": [
    "data=pd.read_csv(\"user_behavior_dataset.csv\")"
   ]
  },
  {
   "cell_type": "code",
   "execution_count": 3,
   "id": "8a2b2467-a24a-4b86-aa68-01a4ddc743f0",
   "metadata": {},
   "outputs": [
    {
     "data": {
      "text/html": [
       "<div>\n",
       "<style scoped>\n",
       "    .dataframe tbody tr th:only-of-type {\n",
       "        vertical-align: middle;\n",
       "    }\n",
       "\n",
       "    .dataframe tbody tr th {\n",
       "        vertical-align: top;\n",
       "    }\n",
       "\n",
       "    .dataframe thead th {\n",
       "        text-align: right;\n",
       "    }\n",
       "</style>\n",
       "<table border=\"1\" class=\"dataframe\">\n",
       "  <thead>\n",
       "    <tr style=\"text-align: right;\">\n",
       "      <th></th>\n",
       "      <th>User ID</th>\n",
       "      <th>Device Model</th>\n",
       "      <th>Operating System</th>\n",
       "      <th>App Usage Time (min/day)</th>\n",
       "      <th>Screen On Time (hours/day)</th>\n",
       "      <th>Battery Drain (mAh/day)</th>\n",
       "      <th>Number of Apps Installed</th>\n",
       "      <th>Data Usage (MB/day)</th>\n",
       "      <th>Age</th>\n",
       "      <th>Gender</th>\n",
       "      <th>User Behavior Class</th>\n",
       "    </tr>\n",
       "  </thead>\n",
       "  <tbody>\n",
       "    <tr>\n",
       "      <th>0</th>\n",
       "      <td>1</td>\n",
       "      <td>Google Pixel 5</td>\n",
       "      <td>Android</td>\n",
       "      <td>393</td>\n",
       "      <td>6.4</td>\n",
       "      <td>1872</td>\n",
       "      <td>67</td>\n",
       "      <td>1122</td>\n",
       "      <td>40</td>\n",
       "      <td>Male</td>\n",
       "      <td>4</td>\n",
       "    </tr>\n",
       "    <tr>\n",
       "      <th>1</th>\n",
       "      <td>2</td>\n",
       "      <td>OnePlus 9</td>\n",
       "      <td>Android</td>\n",
       "      <td>268</td>\n",
       "      <td>4.7</td>\n",
       "      <td>1331</td>\n",
       "      <td>42</td>\n",
       "      <td>944</td>\n",
       "      <td>47</td>\n",
       "      <td>Female</td>\n",
       "      <td>3</td>\n",
       "    </tr>\n",
       "    <tr>\n",
       "      <th>2</th>\n",
       "      <td>3</td>\n",
       "      <td>Xiaomi Mi 11</td>\n",
       "      <td>Android</td>\n",
       "      <td>154</td>\n",
       "      <td>4.0</td>\n",
       "      <td>761</td>\n",
       "      <td>32</td>\n",
       "      <td>322</td>\n",
       "      <td>42</td>\n",
       "      <td>Male</td>\n",
       "      <td>2</td>\n",
       "    </tr>\n",
       "    <tr>\n",
       "      <th>3</th>\n",
       "      <td>4</td>\n",
       "      <td>Google Pixel 5</td>\n",
       "      <td>Android</td>\n",
       "      <td>239</td>\n",
       "      <td>4.8</td>\n",
       "      <td>1676</td>\n",
       "      <td>56</td>\n",
       "      <td>871</td>\n",
       "      <td>20</td>\n",
       "      <td>Male</td>\n",
       "      <td>3</td>\n",
       "    </tr>\n",
       "    <tr>\n",
       "      <th>4</th>\n",
       "      <td>5</td>\n",
       "      <td>iPhone 12</td>\n",
       "      <td>iOS</td>\n",
       "      <td>187</td>\n",
       "      <td>4.3</td>\n",
       "      <td>1367</td>\n",
       "      <td>58</td>\n",
       "      <td>988</td>\n",
       "      <td>31</td>\n",
       "      <td>Female</td>\n",
       "      <td>3</td>\n",
       "    </tr>\n",
       "  </tbody>\n",
       "</table>\n",
       "</div>"
      ],
      "text/plain": [
       "   User ID    Device Model Operating System  App Usage Time (min/day)  \\\n",
       "0        1  Google Pixel 5          Android                       393   \n",
       "1        2       OnePlus 9          Android                       268   \n",
       "2        3    Xiaomi Mi 11          Android                       154   \n",
       "3        4  Google Pixel 5          Android                       239   \n",
       "4        5       iPhone 12              iOS                       187   \n",
       "\n",
       "   Screen On Time (hours/day)  Battery Drain (mAh/day)  \\\n",
       "0                         6.4                     1872   \n",
       "1                         4.7                     1331   \n",
       "2                         4.0                      761   \n",
       "3                         4.8                     1676   \n",
       "4                         4.3                     1367   \n",
       "\n",
       "   Number of Apps Installed  Data Usage (MB/day)  Age  Gender  \\\n",
       "0                        67                 1122   40    Male   \n",
       "1                        42                  944   47  Female   \n",
       "2                        32                  322   42    Male   \n",
       "3                        56                  871   20    Male   \n",
       "4                        58                  988   31  Female   \n",
       "\n",
       "   User Behavior Class  \n",
       "0                    4  \n",
       "1                    3  \n",
       "2                    2  \n",
       "3                    3  \n",
       "4                    3  "
      ]
     },
     "execution_count": 3,
     "metadata": {},
     "output_type": "execute_result"
    }
   ],
   "source": [
    "data.head(5)"
   ]
  },
  {
   "cell_type": "code",
   "execution_count": 4,
   "id": "7be8902e-c5ba-4309-9819-3c0d83988991",
   "metadata": {},
   "outputs": [
    {
     "data": {
      "text/plain": [
       "(700, 11)"
      ]
     },
     "execution_count": 4,
     "metadata": {},
     "output_type": "execute_result"
    }
   ],
   "source": [
    "data.shape"
   ]
  },
  {
   "cell_type": "code",
   "execution_count": 5,
   "id": "275196ae-9c62-4229-8250-32298d5c04f6",
   "metadata": {},
   "outputs": [
    {
     "data": {
      "text/plain": [
       "User ID                         int64\n",
       "Device Model                   object\n",
       "Operating System               object\n",
       "App Usage Time (min/day)        int64\n",
       "Screen On Time (hours/day)    float64\n",
       "Battery Drain (mAh/day)         int64\n",
       "Number of Apps Installed        int64\n",
       "Data Usage (MB/day)             int64\n",
       "Age                             int64\n",
       "Gender                         object\n",
       "User Behavior Class             int64\n",
       "dtype: object"
      ]
     },
     "execution_count": 5,
     "metadata": {},
     "output_type": "execute_result"
    }
   ],
   "source": [
    "data.dtypes"
   ]
  },
  {
   "cell_type": "code",
   "execution_count": 6,
   "id": "46d21a67-2509-4696-8e60-eebddc4dbd69",
   "metadata": {},
   "outputs": [],
   "source": [
    "data=data.drop([\"User ID\"],axis=1)"
   ]
  },
  {
   "cell_type": "code",
   "execution_count": 7,
   "id": "639a2859-3717-49ec-aea0-9e760a9fd364",
   "metadata": {},
   "outputs": [
    {
     "data": {
      "text/plain": [
       "Device Model                   object\n",
       "Operating System               object\n",
       "App Usage Time (min/day)        int64\n",
       "Screen On Time (hours/day)    float64\n",
       "Battery Drain (mAh/day)         int64\n",
       "Number of Apps Installed        int64\n",
       "Data Usage (MB/day)             int64\n",
       "Age                             int64\n",
       "Gender                         object\n",
       "User Behavior Class             int64\n",
       "dtype: object"
      ]
     },
     "execution_count": 7,
     "metadata": {},
     "output_type": "execute_result"
    }
   ],
   "source": [
    "data.dtypes"
   ]
  },
  {
   "cell_type": "code",
   "execution_count": 58,
   "id": "39b07196-46ab-498d-805d-484b1c05e798",
   "metadata": {},
   "outputs": [
    {
     "name": "stdout",
     "output_type": "stream",
     "text": [
      "     device_model  os  usage_time  screen_time_per_hr  battery_train  apps  \\\n",
      "0               0   0         393                 6.4           1872    67   \n",
      "1               1   0         268                 4.7           1331    42   \n",
      "2               3   0         154                 4.0            761    32   \n",
      "3               0   0         239                 4.8           1676    56   \n",
      "4               4   1         187                 4.3           1367    58   \n",
      "..            ...  ..         ...                 ...            ...   ...   \n",
      "695             4   1          92                 3.9           1082    26   \n",
      "696             3   0         316                 6.8           1965    68   \n",
      "697             0   0          99                 3.1            942    22   \n",
      "698             2   0          62                 1.7            431    13   \n",
      "699             1   0         212                 5.4           1306    49   \n",
      "\n",
      "     data_used  Age  Gender  user_behavior  \n",
      "0         1122   40       1              4  \n",
      "1          944   47       0              3  \n",
      "2          322   42       1              2  \n",
      "3          871   20       1              3  \n",
      "4          988   31       0              3  \n",
      "..         ...  ...     ...            ...  \n",
      "695        381   22       1              2  \n",
      "696       1201   59       1              4  \n",
      "697        457   50       0              2  \n",
      "698        224   44       1              1  \n",
      "699        828   23       0              3  \n",
      "\n",
      "[700 rows x 10 columns]\n"
     ]
    }
   ],
   "source": [
    "def rename_columns(data,new_names):\n",
    "    data = data.rename(columns=new_names)\n",
    "    return data\n",
    "new_column_names={\"Device Model\":\"device_model\",\n",
    "                  \"Operating System\":\"os\",\n",
    "                  \"App Usage Time (min/day)\":\"usage_time\",\n",
    "                 \"Screen On Time (hours/day)\" : \"screen_time_per_hr\",\n",
    "                 \"Battery Drain (mAh/day)\":\"battery_drain\",\n",
    "                 \"Number of Apps Installed\":\"apps\",\n",
    "                 \"Data Usage (MB/day)\":\"data_used\",\n",
    "                 \"User Behavior Class\":\"user_behavior\"}\n",
    "df_renamed = rename_columns(data, new_column_names)\n",
    "\n",
    "print(df_renamed)"
   ]
  },
  {
   "cell_type": "code",
   "execution_count": 60,
   "id": "e2026330-3d62-4965-a25c-9c359a27b793",
   "metadata": {},
   "outputs": [
    {
     "data": {
      "text/plain": [
       "device_model            int32\n",
       "os                      int32\n",
       "usage_time              int64\n",
       "screen_time_per_hr    float64\n",
       "battery_train           int64\n",
       "apps                    int64\n",
       "data_used               int64\n",
       "Age                     int64\n",
       "Gender                  int32\n",
       "user_behavior           int64\n",
       "dtype: object"
      ]
     },
     "execution_count": 60,
     "metadata": {},
     "output_type": "execute_result"
    }
   ],
   "source": [
    "df_renamed.dtypes"
   ]
  },
  {
   "cell_type": "code",
   "execution_count": 10,
   "id": "5e0cdec3-8b14-408b-b95b-19537ec29769",
   "metadata": {},
   "outputs": [],
   "source": [
    "data=df_renamed"
   ]
  },
  {
   "cell_type": "code",
   "execution_count": 11,
   "id": "80abe004-e94d-473a-bf3f-5529fbdd4981",
   "metadata": {},
   "outputs": [
    {
     "data": {
      "text/plain": [
       "device_model           object\n",
       "os                     object\n",
       "usage_time              int64\n",
       "screen_time_per_hr    float64\n",
       "battery_train           int64\n",
       "apps                    int64\n",
       "data_used               int64\n",
       "Age                     int64\n",
       "Gender                 object\n",
       "user_behavior           int64\n",
       "dtype: object"
      ]
     },
     "execution_count": 11,
     "metadata": {},
     "output_type": "execute_result"
    }
   ],
   "source": [
    "data.dtypes"
   ]
  },
  {
   "cell_type": "code",
   "execution_count": 12,
   "id": "0fa46004-1012-443a-a20a-e42b2135c2c3",
   "metadata": {},
   "outputs": [
    {
     "data": {
      "text/plain": [
       "device_model\n",
       "Xiaomi Mi 11          146\n",
       "iPhone 12             146\n",
       "Google Pixel 5        142\n",
       "OnePlus 9             133\n",
       "Samsung Galaxy S21    133\n",
       "Name: count, dtype: int64"
      ]
     },
     "execution_count": 12,
     "metadata": {},
     "output_type": "execute_result"
    }
   ],
   "source": [
    "data.device_model.value_counts()"
   ]
  },
  {
   "cell_type": "code",
   "execution_count": 13,
   "id": "77913c5e-16b6-4c1c-97ff-68d6be52b4ad",
   "metadata": {},
   "outputs": [
    {
     "data": {
      "text/plain": [
       "os\n",
       "Android    554\n",
       "iOS        146\n",
       "Name: count, dtype: int64"
      ]
     },
     "execution_count": 13,
     "metadata": {},
     "output_type": "execute_result"
    }
   ],
   "source": [
    "data.os.value_counts()\n"
   ]
  },
  {
   "cell_type": "code",
   "execution_count": 14,
   "id": "2e2603f0-2167-4c20-b50e-c3c8cef87360",
   "metadata": {},
   "outputs": [
    {
     "data": {
      "text/plain": [
       "Gender\n",
       "Male      364\n",
       "Female    336\n",
       "Name: count, dtype: int64"
      ]
     },
     "execution_count": 14,
     "metadata": {},
     "output_type": "execute_result"
    }
   ],
   "source": [
    "data.Gender.value_counts()\n"
   ]
  },
  {
   "cell_type": "code",
   "execution_count": 15,
   "id": "0ec64e05-962c-463b-8cb3-d01b8d885d41",
   "metadata": {},
   "outputs": [
    {
     "data": {
      "text/plain": [
       "device_model          0\n",
       "os                    0\n",
       "usage_time            0\n",
       "screen_time_per_hr    0\n",
       "battery_train         0\n",
       "apps                  0\n",
       "data_used             0\n",
       "Age                   0\n",
       "Gender                0\n",
       "user_behavior         0\n",
       "dtype: int64"
      ]
     },
     "execution_count": 15,
     "metadata": {},
     "output_type": "execute_result"
    }
   ],
   "source": [
    "data.isnull().sum()"
   ]
  },
  {
   "cell_type": "code",
   "execution_count": 16,
   "id": "b3b66b48-55aa-4cc6-9e35-f8cb8e210981",
   "metadata": {},
   "outputs": [],
   "source": [
    "from sklearn.preprocessing import LabelEncoder"
   ]
  },
  {
   "cell_type": "code",
   "execution_count": 17,
   "id": "b3e51dd2-0cf5-4e3d-9e0c-15dcee688eb2",
   "metadata": {},
   "outputs": [],
   "source": [
    "encoder=LabelEncoder()\n",
    "data[\"device_model\"]=encoder.fit_transform(data[\"device_model\"])\n",
    "data[\"os\"]=encoder.fit_transform(data[\"os\"])\n",
    "data[\"Gender\"]=encoder.fit_transform(data[\"Gender\"])\n",
    "\n",
    "\n"
   ]
  },
  {
   "cell_type": "code",
   "execution_count": 18,
   "id": "72e9a39a-4e43-43f8-8a50-c1b6e86168db",
   "metadata": {},
   "outputs": [
    {
     "data": {
      "text/plain": [
       "device_model            int32\n",
       "os                      int32\n",
       "usage_time              int64\n",
       "screen_time_per_hr    float64\n",
       "battery_train           int64\n",
       "apps                    int64\n",
       "data_used               int64\n",
       "Age                     int64\n",
       "Gender                  int32\n",
       "user_behavior           int64\n",
       "dtype: object"
      ]
     },
     "execution_count": 18,
     "metadata": {},
     "output_type": "execute_result"
    }
   ],
   "source": [
    "data.dtypes"
   ]
  },
  {
   "cell_type": "code",
   "execution_count": 19,
   "id": "3b2e1a05-36ca-4730-a5ee-37be0b776fa8",
   "metadata": {},
   "outputs": [
    {
     "data": {
      "text/html": [
       "<div>\n",
       "<style scoped>\n",
       "    .dataframe tbody tr th:only-of-type {\n",
       "        vertical-align: middle;\n",
       "    }\n",
       "\n",
       "    .dataframe tbody tr th {\n",
       "        vertical-align: top;\n",
       "    }\n",
       "\n",
       "    .dataframe thead th {\n",
       "        text-align: right;\n",
       "    }\n",
       "</style>\n",
       "<table border=\"1\" class=\"dataframe\">\n",
       "  <thead>\n",
       "    <tr style=\"text-align: right;\">\n",
       "      <th></th>\n",
       "      <th>device_model</th>\n",
       "      <th>os</th>\n",
       "      <th>usage_time</th>\n",
       "      <th>screen_time_per_hr</th>\n",
       "      <th>battery_train</th>\n",
       "      <th>apps</th>\n",
       "      <th>data_used</th>\n",
       "      <th>Age</th>\n",
       "      <th>Gender</th>\n",
       "      <th>user_behavior</th>\n",
       "    </tr>\n",
       "  </thead>\n",
       "  <tbody>\n",
       "    <tr>\n",
       "      <th>0</th>\n",
       "      <td>0</td>\n",
       "      <td>0</td>\n",
       "      <td>393</td>\n",
       "      <td>6.4</td>\n",
       "      <td>1872</td>\n",
       "      <td>67</td>\n",
       "      <td>1122</td>\n",
       "      <td>40</td>\n",
       "      <td>1</td>\n",
       "      <td>4</td>\n",
       "    </tr>\n",
       "    <tr>\n",
       "      <th>1</th>\n",
       "      <td>1</td>\n",
       "      <td>0</td>\n",
       "      <td>268</td>\n",
       "      <td>4.7</td>\n",
       "      <td>1331</td>\n",
       "      <td>42</td>\n",
       "      <td>944</td>\n",
       "      <td>47</td>\n",
       "      <td>0</td>\n",
       "      <td>3</td>\n",
       "    </tr>\n",
       "    <tr>\n",
       "      <th>2</th>\n",
       "      <td>3</td>\n",
       "      <td>0</td>\n",
       "      <td>154</td>\n",
       "      <td>4.0</td>\n",
       "      <td>761</td>\n",
       "      <td>32</td>\n",
       "      <td>322</td>\n",
       "      <td>42</td>\n",
       "      <td>1</td>\n",
       "      <td>2</td>\n",
       "    </tr>\n",
       "    <tr>\n",
       "      <th>3</th>\n",
       "      <td>0</td>\n",
       "      <td>0</td>\n",
       "      <td>239</td>\n",
       "      <td>4.8</td>\n",
       "      <td>1676</td>\n",
       "      <td>56</td>\n",
       "      <td>871</td>\n",
       "      <td>20</td>\n",
       "      <td>1</td>\n",
       "      <td>3</td>\n",
       "    </tr>\n",
       "    <tr>\n",
       "      <th>4</th>\n",
       "      <td>4</td>\n",
       "      <td>1</td>\n",
       "      <td>187</td>\n",
       "      <td>4.3</td>\n",
       "      <td>1367</td>\n",
       "      <td>58</td>\n",
       "      <td>988</td>\n",
       "      <td>31</td>\n",
       "      <td>0</td>\n",
       "      <td>3</td>\n",
       "    </tr>\n",
       "  </tbody>\n",
       "</table>\n",
       "</div>"
      ],
      "text/plain": [
       "   device_model  os  usage_time  screen_time_per_hr  battery_train  apps  \\\n",
       "0             0   0         393                 6.4           1872    67   \n",
       "1             1   0         268                 4.7           1331    42   \n",
       "2             3   0         154                 4.0            761    32   \n",
       "3             0   0         239                 4.8           1676    56   \n",
       "4             4   1         187                 4.3           1367    58   \n",
       "\n",
       "   data_used  Age  Gender  user_behavior  \n",
       "0       1122   40       1              4  \n",
       "1        944   47       0              3  \n",
       "2        322   42       1              2  \n",
       "3        871   20       1              3  \n",
       "4        988   31       0              3  "
      ]
     },
     "execution_count": 19,
     "metadata": {},
     "output_type": "execute_result"
    }
   ],
   "source": [
    "data.head(5)"
   ]
  },
  {
   "cell_type": "code",
   "execution_count": 20,
   "id": "c7565290-021a-4c54-8c91-c7fd4f8a6108",
   "metadata": {},
   "outputs": [
    {
     "data": {
      "text/plain": [
       "59"
      ]
     },
     "execution_count": 20,
     "metadata": {},
     "output_type": "execute_result"
    }
   ],
   "source": [
    "data.Age.max()"
   ]
  },
  {
   "cell_type": "code",
   "execution_count": 21,
   "id": "56c7dc0c-e7cb-4f10-b2fb-2a21f14d988e",
   "metadata": {},
   "outputs": [
    {
     "data": {
      "text/plain": [
       "18"
      ]
     },
     "execution_count": 21,
     "metadata": {},
     "output_type": "execute_result"
    }
   ],
   "source": [
    "data.Age.min()"
   ]
  },
  {
   "cell_type": "code",
   "execution_count": 22,
   "id": "a9989ac9-8f93-45b9-b894-4ac726ad6afe",
   "metadata": {},
   "outputs": [
    {
     "name": "stderr",
     "output_type": "stream",
     "text": [
      "C:\\Users\\Admin\\anaconda3\\Lib\\site-packages\\seaborn\\_oldcore.py:1119: FutureWarning: use_inf_as_na option is deprecated and will be removed in a future version. Convert inf values to NaN before operating instead.\n",
      "  with pd.option_context('mode.use_inf_as_na', True):\n"
     ]
    },
    {
     "data": {
      "image/png": "[encoded data removed]",
      "text/plain": [
       "<Figure size 800x600 with 1 Axes>"
      ]
     },
     "metadata": {},
     "output_type": "display_data"
    }
   ],
   "source": [
    "plt.figure(figsize=(8, 6))\n",
    "sns.histplot(data['Age'], bins=10, kde=True)  # kde=True adds a kernel density estimate line\n",
    "plt.title('Age Distribution')\n",
    "plt.xlabel('Age')\n",
    "plt.ylabel('Frequency')\n",
    "plt.show()"
   ]
  },
  {
   "cell_type": "code",
   "execution_count": 23,
   "id": "36525f63-3188-4e25-9486-57388e4b7515",
   "metadata": {},
   "outputs": [
    {
     "data": {
      "image/png": "[encoded data removed]",
      "text/plain": [
       "<Figure size 640x480 with 1 Axes>"
      ]
     },
     "metadata": {},
     "output_type": "display_data"
    }
   ],
   "source": [
    "sns.set(style=\"darkgrid\")\n",
    "data.hist(\"user_behavior\")\n",
    "plt.show()"
   ]
  },
  {
   "cell_type": "code",
   "execution_count": 24,
   "id": "0e0983c5-1896-410b-8821-62f44af0166c",
   "metadata": {},
   "outputs": [
    {
     "data": {
      "image/png": "[encoded data removed]",
      "text/plain": [
       "<Figure size 1000x500 with 1 Axes>"
      ]
     },
     "metadata": {},
     "output_type": "display_data"
    }
   ],
   "source": [
    "plt.style.use('ggplot')\n",
    "plt.figure(figsize=(10,5))\n",
    "sns.countplot(x='Gender',data=data,color=\"cyan\")\n",
    "plt.title('Distribution of Gender')\n",
    "plt.show()"
   ]
  },
  {
   "cell_type": "code",
   "execution_count": 25,
   "id": "d6a7aa4f-3c05-4a3b-930f-88b5b37d7033",
   "metadata": {},
   "outputs": [
    {
     "data": {
      "text/plain": [
       "10"
      ]
     },
     "execution_count": 25,
     "metadata": {},
     "output_type": "execute_result"
    }
   ],
   "source": [
    "data.apps.min()"
   ]
  },
  {
   "cell_type": "code",
   "execution_count": 26,
   "id": "78918746-42da-4ce2-9329-5345f52d97e9",
   "metadata": {},
   "outputs": [
    {
     "data": {
      "text/html": [
       "<div>\n",
       "<style scoped>\n",
       "    .dataframe tbody tr th:only-of-type {\n",
       "        vertical-align: middle;\n",
       "    }\n",
       "\n",
       "    .dataframe tbody tr th {\n",
       "        vertical-align: top;\n",
       "    }\n",
       "\n",
       "    .dataframe thead th {\n",
       "        text-align: right;\n",
       "    }\n",
       "</style>\n",
       "<table border=\"1\" class=\"dataframe\">\n",
       "  <thead>\n",
       "    <tr style=\"text-align: right;\">\n",
       "      <th></th>\n",
       "      <th>device_model</th>\n",
       "      <th>os</th>\n",
       "      <th>usage_time</th>\n",
       "      <th>screen_time_per_hr</th>\n",
       "      <th>battery_train</th>\n",
       "      <th>apps</th>\n",
       "      <th>data_used</th>\n",
       "      <th>Age</th>\n",
       "      <th>Gender</th>\n",
       "      <th>user_behavior</th>\n",
       "    </tr>\n",
       "  </thead>\n",
       "  <tbody>\n",
       "    <tr>\n",
       "      <th>0</th>\n",
       "      <td>0</td>\n",
       "      <td>0</td>\n",
       "      <td>393</td>\n",
       "      <td>6.4</td>\n",
       "      <td>1872</td>\n",
       "      <td>67</td>\n",
       "      <td>1122</td>\n",
       "      <td>40</td>\n",
       "      <td>1</td>\n",
       "      <td>4</td>\n",
       "    </tr>\n",
       "    <tr>\n",
       "      <th>1</th>\n",
       "      <td>1</td>\n",
       "      <td>0</td>\n",
       "      <td>268</td>\n",
       "      <td>4.7</td>\n",
       "      <td>1331</td>\n",
       "      <td>42</td>\n",
       "      <td>944</td>\n",
       "      <td>47</td>\n",
       "      <td>0</td>\n",
       "      <td>3</td>\n",
       "    </tr>\n",
       "    <tr>\n",
       "      <th>2</th>\n",
       "      <td>3</td>\n",
       "      <td>0</td>\n",
       "      <td>154</td>\n",
       "      <td>4.0</td>\n",
       "      <td>761</td>\n",
       "      <td>32</td>\n",
       "      <td>322</td>\n",
       "      <td>42</td>\n",
       "      <td>1</td>\n",
       "      <td>2</td>\n",
       "    </tr>\n",
       "    <tr>\n",
       "      <th>3</th>\n",
       "      <td>0</td>\n",
       "      <td>0</td>\n",
       "      <td>239</td>\n",
       "      <td>4.8</td>\n",
       "      <td>1676</td>\n",
       "      <td>56</td>\n",
       "      <td>871</td>\n",
       "      <td>20</td>\n",
       "      <td>1</td>\n",
       "      <td>3</td>\n",
       "    </tr>\n",
       "    <tr>\n",
       "      <th>4</th>\n",
       "      <td>4</td>\n",
       "      <td>1</td>\n",
       "      <td>187</td>\n",
       "      <td>4.3</td>\n",
       "      <td>1367</td>\n",
       "      <td>58</td>\n",
       "      <td>988</td>\n",
       "      <td>31</td>\n",
       "      <td>0</td>\n",
       "      <td>3</td>\n",
       "    </tr>\n",
       "  </tbody>\n",
       "</table>\n",
       "</div>"
      ],
      "text/plain": [
       "   device_model  os  usage_time  screen_time_per_hr  battery_train  apps  \\\n",
       "0             0   0         393                 6.4           1872    67   \n",
       "1             1   0         268                 4.7           1331    42   \n",
       "2             3   0         154                 4.0            761    32   \n",
       "3             0   0         239                 4.8           1676    56   \n",
       "4             4   1         187                 4.3           1367    58   \n",
       "\n",
       "   data_used  Age  Gender  user_behavior  \n",
       "0       1122   40       1              4  \n",
       "1        944   47       0              3  \n",
       "2        322   42       1              2  \n",
       "3        871   20       1              3  \n",
       "4        988   31       0              3  "
      ]
     },
     "execution_count": 26,
     "metadata": {},
     "output_type": "execute_result"
    }
   ],
   "source": [
    "data.head(5)"
   ]
  },
  {
   "cell_type": "code",
   "execution_count": 27,
   "id": "c44f6bce-44bb-4406-8198-e9c9c304b63d",
   "metadata": {},
   "outputs": [],
   "source": [
    "column=[\"usage_time\",\"screen_time_per_hr\",\"battery_train\",\"apps\",\"data_used\"]"
   ]
  },
  {
   "cell_type": "code",
   "execution_count": 28,
   "id": "01c7a19d-bf0a-4da0-aba1-8bc61dbaa1e7",
   "metadata": {},
   "outputs": [
    {
     "data": {
      "image/png": "[encoded data removed]",
      "text/plain": [
       "<Figure size 1000x500 with 1 Axes>"
      ]
     },
     "metadata": {},
     "output_type": "display_data"
    },
    {
     "data": {
      "image/png": "[encoded data removed]",
      "text/plain": [
       "<Figure size 1000x500 with 1 Axes>"
      ]
     },
     "metadata": {},
     "output_type": "display_data"
    },
    {
     "data": {
      "image/png": "[encoded data removed]",
      "text/plain": [
       "<Figure size 1000x500 with 1 Axes>"
      ]
     },
     "metadata": {},
     "output_type": "display_data"
    },
    {
     "data": {
      "image/png": "[encoded data removed]",
      "text/plain": [
       "<Figure size 1000x500 with 1 Axes>"
      ]
     },
     "metadata": {},
     "output_type": "display_data"
    },
    {
     "data": {
      "image/png": "[encoded data removed]",
      "text/plain": [
       "<Figure size 1000x500 with 1 Axes>"
      ]
     },
     "metadata": {},
     "output_type": "display_data"
    }
   ],
   "source": [
    "for columns in column:\n",
    "    plt.style.use(\"fivethirtyeight\")\n",
    "    plt.figure(figsize=(10,5))\n",
    "    plt.hist(x=columns,data=data,color=\"cyan\",edgecolor=\"black\")\n",
    "    plt.xlabel(f\"distributions of {columns}\")\n",
    "    plt.show()"
   ]
  },
  {
   "cell_type": "code",
   "execution_count": 29,
   "id": "2fdae00f-9ad1-4bad-ab61-8db63d66ab9d",
   "metadata": {},
   "outputs": [
    {
     "data": {
      "text/html": [
       "<div>\n",
       "<style scoped>\n",
       "    .dataframe tbody tr th:only-of-type {\n",
       "        vertical-align: middle;\n",
       "    }\n",
       "\n",
       "    .dataframe tbody tr th {\n",
       "        vertical-align: top;\n",
       "    }\n",
       "\n",
       "    .dataframe thead th {\n",
       "        text-align: right;\n",
       "    }\n",
       "</style>\n",
       "<table border=\"1\" class=\"dataframe\">\n",
       "  <thead>\n",
       "    <tr style=\"text-align: right;\">\n",
       "      <th></th>\n",
       "      <th>device_model</th>\n",
       "      <th>os</th>\n",
       "      <th>usage_time</th>\n",
       "      <th>screen_time_per_hr</th>\n",
       "      <th>battery_train</th>\n",
       "      <th>apps</th>\n",
       "      <th>data_used</th>\n",
       "      <th>Age</th>\n",
       "      <th>Gender</th>\n",
       "      <th>user_behavior</th>\n",
       "    </tr>\n",
       "  </thead>\n",
       "  <tbody>\n",
       "    <tr>\n",
       "      <th>count</th>\n",
       "      <td>700.000000</td>\n",
       "      <td>700.000000</td>\n",
       "      <td>700.000000</td>\n",
       "      <td>700.000000</td>\n",
       "      <td>700.000000</td>\n",
       "      <td>700.000000</td>\n",
       "      <td>700.000000</td>\n",
       "      <td>700.000000</td>\n",
       "      <td>700.000000</td>\n",
       "      <td>700.000000</td>\n",
       "    </tr>\n",
       "    <tr>\n",
       "      <th>mean</th>\n",
       "      <td>2.030000</td>\n",
       "      <td>0.208571</td>\n",
       "      <td>271.128571</td>\n",
       "      <td>5.272714</td>\n",
       "      <td>1525.158571</td>\n",
       "      <td>50.681429</td>\n",
       "      <td>929.742857</td>\n",
       "      <td>38.482857</td>\n",
       "      <td>0.520000</td>\n",
       "      <td>2.990000</td>\n",
       "    </tr>\n",
       "    <tr>\n",
       "      <th>std</th>\n",
       "      <td>1.430493</td>\n",
       "      <td>0.406578</td>\n",
       "      <td>177.199484</td>\n",
       "      <td>3.068584</td>\n",
       "      <td>819.136414</td>\n",
       "      <td>26.943324</td>\n",
       "      <td>640.451729</td>\n",
       "      <td>12.012916</td>\n",
       "      <td>0.499957</td>\n",
       "      <td>1.401476</td>\n",
       "    </tr>\n",
       "    <tr>\n",
       "      <th>min</th>\n",
       "      <td>0.000000</td>\n",
       "      <td>0.000000</td>\n",
       "      <td>30.000000</td>\n",
       "      <td>1.000000</td>\n",
       "      <td>302.000000</td>\n",
       "      <td>10.000000</td>\n",
       "      <td>102.000000</td>\n",
       "      <td>18.000000</td>\n",
       "      <td>0.000000</td>\n",
       "      <td>1.000000</td>\n",
       "    </tr>\n",
       "    <tr>\n",
       "      <th>25%</th>\n",
       "      <td>1.000000</td>\n",
       "      <td>0.000000</td>\n",
       "      <td>113.250000</td>\n",
       "      <td>2.500000</td>\n",
       "      <td>722.250000</td>\n",
       "      <td>26.000000</td>\n",
       "      <td>373.000000</td>\n",
       "      <td>28.000000</td>\n",
       "      <td>0.000000</td>\n",
       "      <td>2.000000</td>\n",
       "    </tr>\n",
       "    <tr>\n",
       "      <th>50%</th>\n",
       "      <td>2.000000</td>\n",
       "      <td>0.000000</td>\n",
       "      <td>227.500000</td>\n",
       "      <td>4.900000</td>\n",
       "      <td>1502.500000</td>\n",
       "      <td>49.000000</td>\n",
       "      <td>823.500000</td>\n",
       "      <td>38.000000</td>\n",
       "      <td>1.000000</td>\n",
       "      <td>3.000000</td>\n",
       "    </tr>\n",
       "    <tr>\n",
       "      <th>75%</th>\n",
       "      <td>3.000000</td>\n",
       "      <td>0.000000</td>\n",
       "      <td>434.250000</td>\n",
       "      <td>7.400000</td>\n",
       "      <td>2229.500000</td>\n",
       "      <td>74.000000</td>\n",
       "      <td>1341.000000</td>\n",
       "      <td>49.000000</td>\n",
       "      <td>1.000000</td>\n",
       "      <td>4.000000</td>\n",
       "    </tr>\n",
       "    <tr>\n",
       "      <th>max</th>\n",
       "      <td>4.000000</td>\n",
       "      <td>1.000000</td>\n",
       "      <td>598.000000</td>\n",
       "      <td>12.000000</td>\n",
       "      <td>2993.000000</td>\n",
       "      <td>99.000000</td>\n",
       "      <td>2497.000000</td>\n",
       "      <td>59.000000</td>\n",
       "      <td>1.000000</td>\n",
       "      <td>5.000000</td>\n",
       "    </tr>\n",
       "  </tbody>\n",
       "</table>\n",
       "</div>"
      ],
      "text/plain": [
       "       device_model          os  usage_time  screen_time_per_hr  \\\n",
       "count    700.000000  700.000000  700.000000          700.000000   \n",
       "mean       2.030000    0.208571  271.128571            5.272714   \n",
       "std        1.430493    0.406578  177.199484            3.068584   \n",
       "min        0.000000    0.000000   30.000000            1.000000   \n",
       "25%        1.000000    0.000000  113.250000            2.500000   \n",
       "50%        2.000000    0.000000  227.500000            4.900000   \n",
       "75%        3.000000    0.000000  434.250000            7.400000   \n",
       "max        4.000000    1.000000  598.000000           12.000000   \n",
       "\n",
       "       battery_train        apps    data_used         Age      Gender  \\\n",
       "count     700.000000  700.000000   700.000000  700.000000  700.000000   \n",
       "mean     1525.158571   50.681429   929.742857   38.482857    0.520000   \n",
       "std       819.136414   26.943324   640.451729   12.012916    0.499957   \n",
       "min       302.000000   10.000000   102.000000   18.000000    0.000000   \n",
       "25%       722.250000   26.000000   373.000000   28.000000    0.000000   \n",
       "50%      1502.500000   49.000000   823.500000   38.000000    1.000000   \n",
       "75%      2229.500000   74.000000  1341.000000   49.000000    1.000000   \n",
       "max      2993.000000   99.000000  2497.000000   59.000000    1.000000   \n",
       "\n",
       "       user_behavior  \n",
       "count     700.000000  \n",
       "mean        2.990000  \n",
       "std         1.401476  \n",
       "min         1.000000  \n",
       "25%         2.000000  \n",
       "50%         3.000000  \n",
       "75%         4.000000  \n",
       "max         5.000000  "
      ]
     },
     "execution_count": 29,
     "metadata": {},
     "output_type": "execute_result"
    }
   ],
   "source": [
    "data.describe()"
   ]
  },
  {
   "cell_type": "code",
   "execution_count": 30,
   "id": "4d4bba2b-2d6f-4316-b342-539a7f9f6d6f",
   "metadata": {},
   "outputs": [],
   "source": [
    "from sklearn.preprocessing import StandardScaler\n",
    "scaler=StandardScaler()\n",
    "data_scaled=pd.DataFrame(scaler.fit_transform(data.drop('user_behavior',axis=1)),columns=data.columns[:-1])"
   ]
  },
  {
   "cell_type": "code",
   "execution_count": 31,
   "id": "11e5992f-9ad1-489c-9cc3-1b41022468bd",
   "metadata": {},
   "outputs": [],
   "source": [
    "correlation=data.corr()"
   ]
  },
  {
   "cell_type": "code",
   "execution_count": 32,
   "id": "49114907-1a89-4e9a-9f36-e7c14e91ac20",
   "metadata": {},
   "outputs": [
    {
     "data": {
      "image/png": "[encoded data removed]",
      "text/plain": [
       "<Figure size 1000x800 with 2 Axes>"
      ]
     },
     "metadata": {},
     "output_type": "display_data"
    }
   ],
   "source": [
    "plt.figure(figsize=(10, 8))\n",
    "sns.heatmap(correlation, annot=True, fmt=\".02f\", cmap='coolwarm',linewidths=0.5,vmin=-1,vmax=1)\n",
    "plt.title('Correlation Matrix Heatmap')\n",
    "plt.show()"
   ]
  },
  {
   "cell_type": "code",
   "execution_count": 33,
   "id": "f975aed1-fd3a-4e73-9abf-58b7ecca7a57",
   "metadata": {},
   "outputs": [],
   "source": [
    "from sklearn.model_selection import train_test_split"
   ]
  },
  {
   "cell_type": "code",
   "execution_count": 34,
   "id": "f7da728b-0ae0-44ba-b9f8-a87ecdcb5221",
   "metadata": {},
   "outputs": [],
   "source": [
    "X_train=data_scaled"
   ]
  },
  {
   "cell_type": "code",
   "execution_count": 35,
   "id": "2e8d1012-f88e-459f-9a44-f60a85abe6fd",
   "metadata": {},
   "outputs": [],
   "source": [
    "y_train=data[\"user_behavior\"]"
   ]
  },
  {
   "cell_type": "code",
   "execution_count": 36,
   "id": "4369d3ff-71a3-408a-ab9a-2a17aedaf358",
   "metadata": {},
   "outputs": [],
   "source": [
    "X_train,X_test,y_train,y_test=train_test_split(X_train,y_train,random_state=42,test_size=.2)"
   ]
  },
  {
   "cell_type": "code",
   "execution_count": 37,
   "id": "478743ff-b287-4140-984b-fa31d16b50db",
   "metadata": {},
   "outputs": [
    {
     "data": {
      "text/plain": [
       "(560, 9)"
      ]
     },
     "execution_count": 37,
     "metadata": {},
     "output_type": "execute_result"
    }
   ],
   "source": [
    "X_train.shape"
   ]
  },
  {
   "cell_type": "code",
   "execution_count": 38,
   "id": "4dfe85d8-2c92-40ae-9d30-be5456362d37",
   "metadata": {},
   "outputs": [
    {
     "data": {
      "text/plain": [
       "(560,)"
      ]
     },
     "execution_count": 38,
     "metadata": {},
     "output_type": "execute_result"
    }
   ],
   "source": [
    "y_train.shape"
   ]
  },
  {
   "cell_type": "code",
   "execution_count": 39,
   "id": "e1310e73-f1f7-4b55-a7e9-ea5569c86193",
   "metadata": {},
   "outputs": [
    {
     "name": "stdout",
     "output_type": "stream",
     "text": [
      "Logistic Regression: 1.0\n",
      "K-Nearest Neighbors: 0.9928571428571429\n",
      "Support Vector Machines: 1.0\n",
      "Decision Trees: 1.0\n",
      "Random Forests: 1.0\n"
     ]
    }
   ],
   "source": [
    "from sklearn.linear_model import LinearRegression\n",
    "from sklearn.metrics import mean_squared_error\n",
    "from sklearn.metrics import accuracy_score, classification_report\n",
    "from sklearn.linear_model import LogisticRegression\n",
    "from sklearn.neighbors import KNeighborsClassifier\n",
    "from sklearn.svm import SVC\n",
    "from sklearn.tree import DecisionTreeClassifier\n",
    "from sklearn.ensemble import RandomForestClassifier\n",
    "\n",
    "models = {\n",
    "    \"Logistic Regression\": LogisticRegression(),\n",
    "    \"K-Nearest Neighbors\": KNeighborsClassifier(),\n",
    "    \"Support Vector Machines\": SVC(),\n",
    "    \"Decision Trees\": DecisionTreeClassifier(),\n",
    "    \"Random Forests\": RandomForestClassifier(),\n",
    "    \n",
    "}\n",
    "\n",
    "for name, model in models.items():\n",
    "    model.fit(X_train, y_train)\n",
    "    print(f\"{name}: {model.score(X_test, y_test)}\")"
   ]
  },
  {
   "cell_type": "code",
   "execution_count": 40,
   "id": "0a5ca319-ede0-436f-9fcb-45d2548f67df",
   "metadata": {},
   "outputs": [
    {
     "name": "stdout",
     "output_type": "stream",
     "text": [
      "Model: Logistic Regression\n",
      "Accuracy: 1.0000\n",
      "Classification Report:\n",
      "              precision    recall  f1-score   support\n",
      "\n",
      "           1       1.00      1.00      1.00        27\n",
      "           2       1.00      1.00      1.00        29\n",
      "           3       1.00      1.00      1.00        34\n",
      "           4       1.00      1.00      1.00        27\n",
      "           5       1.00      1.00      1.00        23\n",
      "\n",
      "    accuracy                           1.00       140\n",
      "   macro avg       1.00      1.00      1.00       140\n",
      "weighted avg       1.00      1.00      1.00       140\n",
      "\n",
      "----------------------------------------\n",
      "Model: K-Nearest Neighbors\n",
      "Accuracy: 0.9929\n",
      "Classification Report:\n",
      "              precision    recall  f1-score   support\n",
      "\n",
      "           1       1.00      1.00      1.00        27\n",
      "           2       1.00      1.00      1.00        29\n",
      "           3       0.97      1.00      0.99        34\n",
      "           4       1.00      0.96      0.98        27\n",
      "           5       1.00      1.00      1.00        23\n",
      "\n",
      "    accuracy                           0.99       140\n",
      "   macro avg       0.99      0.99      0.99       140\n",
      "weighted avg       0.99      0.99      0.99       140\n",
      "\n",
      "----------------------------------------\n",
      "Model: Support Vector Machines\n",
      "Accuracy: 1.0000\n",
      "Classification Report:\n",
      "              precision    recall  f1-score   support\n",
      "\n",
      "           1       1.00      1.00      1.00        27\n",
      "           2       1.00      1.00      1.00        29\n",
      "           3       1.00      1.00      1.00        34\n",
      "           4       1.00      1.00      1.00        27\n",
      "           5       1.00      1.00      1.00        23\n",
      "\n",
      "    accuracy                           1.00       140\n",
      "   macro avg       1.00      1.00      1.00       140\n",
      "weighted avg       1.00      1.00      1.00       140\n",
      "\n",
      "----------------------------------------\n",
      "Model: Decision Trees\n",
      "Accuracy: 1.0000\n",
      "Classification Report:\n",
      "              precision    recall  f1-score   support\n",
      "\n",
      "           1       1.00      1.00      1.00        27\n",
      "           2       1.00      1.00      1.00        29\n",
      "           3       1.00      1.00      1.00        34\n",
      "           4       1.00      1.00      1.00        27\n",
      "           5       1.00      1.00      1.00        23\n",
      "\n",
      "    accuracy                           1.00       140\n",
      "   macro avg       1.00      1.00      1.00       140\n",
      "weighted avg       1.00      1.00      1.00       140\n",
      "\n",
      "----------------------------------------\n",
      "Model: Random Forests\n",
      "Accuracy: 1.0000\n",
      "Classification Report:\n",
      "              precision    recall  f1-score   support\n",
      "\n",
      "           1       1.00      1.00      1.00        27\n",
      "           2       1.00      1.00      1.00        29\n",
      "           3       1.00      1.00      1.00        34\n",
      "           4       1.00      1.00      1.00        27\n",
      "           5       1.00      1.00      1.00        23\n",
      "\n",
      "    accuracy                           1.00       140\n",
      "   macro avg       1.00      1.00      1.00       140\n",
      "weighted avg       1.00      1.00      1.00       140\n",
      "\n",
      "----------------------------------------\n"
     ]
    }
   ],
   "source": [
    "for model_name, model in models.items():\n",
    "    # Fit the model on the training data\n",
    "    model.fit(X_train, y_train)\n",
    "    \n",
    "    # Predict on the test data\n",
    "    y_pred = model.predict(X_test)\n",
    "    \n",
    "    # Calculate accuracy\n",
    "    accuracy = accuracy_score(y_test, y_pred)\n",
    "    \n",
    "    # Print results\n",
    "    print(f\"Model: {model_name}\")\n",
    "    print(f\"Accuracy: {accuracy:.4f}\")\n",
    "    print(\"Classification Report:\")\n",
    "    print(classification_report(y_test, y_pred))\n",
    "    print(\"-\" * 40)"
   ]
  },
  {
   "cell_type": "code",
   "execution_count": 41,
   "id": "34618c5f-7311-4460-a925-bcda77d4e520",
   "metadata": {},
   "outputs": [
    {
     "data": {
      "text/html": [
       "<div>\n",
       "<style scoped>\n",
       "    .dataframe tbody tr th:only-of-type {\n",
       "        vertical-align: middle;\n",
       "    }\n",
       "\n",
       "    .dataframe tbody tr th {\n",
       "        vertical-align: top;\n",
       "    }\n",
       "\n",
       "    .dataframe thead th {\n",
       "        text-align: right;\n",
       "    }\n",
       "</style>\n",
       "<table border=\"1\" class=\"dataframe\">\n",
       "  <thead>\n",
       "    <tr style=\"text-align: right;\">\n",
       "      <th></th>\n",
       "      <th>device_model</th>\n",
       "      <th>os</th>\n",
       "      <th>usage_time</th>\n",
       "      <th>screen_time_per_hr</th>\n",
       "      <th>battery_train</th>\n",
       "      <th>apps</th>\n",
       "      <th>data_used</th>\n",
       "      <th>Age</th>\n",
       "      <th>Gender</th>\n",
       "    </tr>\n",
       "  </thead>\n",
       "  <tbody>\n",
       "    <tr>\n",
       "      <th>count</th>\n",
       "      <td>7.000000e+02</td>\n",
       "      <td>7.000000e+02</td>\n",
       "      <td>7.000000e+02</td>\n",
       "      <td>7.000000e+02</td>\n",
       "      <td>7.000000e+02</td>\n",
       "      <td>7.000000e+02</td>\n",
       "      <td>700.000000</td>\n",
       "      <td>7.000000e+02</td>\n",
       "      <td>7.000000e+02</td>\n",
       "    </tr>\n",
       "    <tr>\n",
       "      <th>mean</th>\n",
       "      <td>1.065814e-16</td>\n",
       "      <td>-2.283887e-17</td>\n",
       "      <td>-2.537653e-17</td>\n",
       "      <td>1.776357e-17</td>\n",
       "      <td>9.896845e-17</td>\n",
       "      <td>8.945226e-17</td>\n",
       "      <td>0.000000</td>\n",
       "      <td>6.090366e-17</td>\n",
       "      <td>-2.283887e-17</td>\n",
       "    </tr>\n",
       "    <tr>\n",
       "      <th>std</th>\n",
       "      <td>1.000715e+00</td>\n",
       "      <td>1.000715e+00</td>\n",
       "      <td>1.000715e+00</td>\n",
       "      <td>1.000715e+00</td>\n",
       "      <td>1.000715e+00</td>\n",
       "      <td>1.000715e+00</td>\n",
       "      <td>1.000715</td>\n",
       "      <td>1.000715e+00</td>\n",
       "      <td>1.000715e+00</td>\n",
       "    </tr>\n",
       "    <tr>\n",
       "      <th>min</th>\n",
       "      <td>-1.420106e+00</td>\n",
       "      <td>-5.133594e-01</td>\n",
       "      <td>-1.361748e+00</td>\n",
       "      <td>-1.393402e+00</td>\n",
       "      <td>-1.494297e+00</td>\n",
       "      <td>-1.510969e+00</td>\n",
       "      <td>-1.293360</td>\n",
       "      <td>-1.706289e+00</td>\n",
       "      <td>-1.040833e+00</td>\n",
       "    </tr>\n",
       "    <tr>\n",
       "      <th>25%</th>\n",
       "      <td>-7.205466e-01</td>\n",
       "      <td>-5.133594e-01</td>\n",
       "      <td>-8.916023e-01</td>\n",
       "      <td>-9.042272e-01</td>\n",
       "      <td>-9.808900e-01</td>\n",
       "      <td>-9.167049e-01</td>\n",
       "      <td>-0.869919</td>\n",
       "      <td>-8.732562e-01</td>\n",
       "      <td>-1.040833e+00</td>\n",
       "    </tr>\n",
       "    <tr>\n",
       "      <th>50%</th>\n",
       "      <td>-2.098679e-02</td>\n",
       "      <td>-5.133594e-01</td>\n",
       "      <td>-2.463877e-01</td>\n",
       "      <td>-1.215482e-01</td>\n",
       "      <td>-2.768132e-02</td>\n",
       "      <td>-6.245075e-02</td>\n",
       "      <td>-0.166006</td>\n",
       "      <td>-4.022357e-02</td>\n",
       "      <td>9.607689e-01</td>\n",
       "    </tr>\n",
       "    <tr>\n",
       "      <th>75%</th>\n",
       "      <td>6.785730e-01</td>\n",
       "      <td>-5.133594e-01</td>\n",
       "      <td>9.212107e-01</td>\n",
       "      <td>6.937424e-01</td>\n",
       "      <td>8.604734e-01</td>\n",
       "      <td>8.660864e-01</td>\n",
       "      <td>0.642595</td>\n",
       "      <td>8.761123e-01</td>\n",
       "      <td>9.607689e-01</td>\n",
       "    </tr>\n",
       "    <tr>\n",
       "      <th>max</th>\n",
       "      <td>1.378133e+00</td>\n",
       "      <td>1.947953e+00</td>\n",
       "      <td>1.845971e+00</td>\n",
       "      <td>2.193877e+00</td>\n",
       "      <td>1.793219e+00</td>\n",
       "      <td>1.794623e+00</td>\n",
       "      <td>2.448862</td>\n",
       "      <td>1.709145e+00</td>\n",
       "      <td>9.607689e-01</td>\n",
       "    </tr>\n",
       "  </tbody>\n",
       "</table>\n",
       "</div>"
      ],
      "text/plain": [
       "       device_model            os    usage_time  screen_time_per_hr  \\\n",
       "count  7.000000e+02  7.000000e+02  7.000000e+02        7.000000e+02   \n",
       "mean   1.065814e-16 -2.283887e-17 -2.537653e-17        1.776357e-17   \n",
       "std    1.000715e+00  1.000715e+00  1.000715e+00        1.000715e+00   \n",
       "min   -1.420106e+00 -5.133594e-01 -1.361748e+00       -1.393402e+00   \n",
       "25%   -7.205466e-01 -5.133594e-01 -8.916023e-01       -9.042272e-01   \n",
       "50%   -2.098679e-02 -5.133594e-01 -2.463877e-01       -1.215482e-01   \n",
       "75%    6.785730e-01 -5.133594e-01  9.212107e-01        6.937424e-01   \n",
       "max    1.378133e+00  1.947953e+00  1.845971e+00        2.193877e+00   \n",
       "\n",
       "       battery_train          apps   data_used           Age        Gender  \n",
       "count   7.000000e+02  7.000000e+02  700.000000  7.000000e+02  7.000000e+02  \n",
       "mean    9.896845e-17  8.945226e-17    0.000000  6.090366e-17 -2.283887e-17  \n",
       "std     1.000715e+00  1.000715e+00    1.000715  1.000715e+00  1.000715e+00  \n",
       "min    -1.494297e+00 -1.510969e+00   -1.293360 -1.706289e+00 -1.040833e+00  \n",
       "25%    -9.808900e-01 -9.167049e-01   -0.869919 -8.732562e-01 -1.040833e+00  \n",
       "50%    -2.768132e-02 -6.245075e-02   -0.166006 -4.022357e-02  9.607689e-01  \n",
       "75%     8.604734e-01  8.660864e-01    0.642595  8.761123e-01  9.607689e-01  \n",
       "max     1.793219e+00  1.794623e+00    2.448862  1.709145e+00  9.607689e-01  "
      ]
     },
     "execution_count": 41,
     "metadata": {},
     "output_type": "execute_result"
    }
   ],
   "source": [
    "data_scaled.describe()"
   ]
  },
  {
   "cell_type": "code",
   "execution_count": 42,
   "id": "290fe764-33a9-409a-bbc1-7d716157fb2f",
   "metadata": {},
   "outputs": [
    {
     "name": "stdout",
     "output_type": "stream",
     "text": [
      "Best k: 1\n"
     ]
    }
   ],
   "source": [
    "from sklearn.model_selection import GridSearchCV\n",
    "from sklearn.neighbors import KNeighborsClassifier\n",
    "\n",
    "param_grid = {'n_neighbors': list(range(1, 21))}\n",
    "knn = KNeighborsClassifier()\n",
    "grid_search = GridSearchCV(knn, param_grid, cv=5)\n",
    "grid_search.fit(X_train, y_train)\n",
    "\n",
    "print(\"Best k:\", grid_search.best_params_['n_neighbors'])"
   ]
  },
  {
   "cell_type": "code",
   "execution_count": 48,
   "id": "620a34bf-a1fa-4400-b331-85d867bf865f",
   "metadata": {},
   "outputs": [
    {
     "name": "stdout",
     "output_type": "stream",
     "text": [
      "Best parameters for logreg: {'logreg__C': 10, 'logreg__penalty': 'l2', 'logreg__solver': 'liblinear'}\n",
      "Best accuracy for logreg: 0.8232142857142858\n",
      "Best parameters for knn: {'knn__metric': 'manhattan', 'knn__n_neighbors': 9, 'knn__weights': 'uniform'}\n",
      "Best accuracy for knn: 1.0\n",
      "Best parameters for svc: {'svc__C': 0.1, 'svc__gamma': 'scale', 'svc__kernel': 'linear'}\n",
      "Best accuracy for svc: 1.0\n",
      "Best parameters for decision_tree: {'decision_tree__max_depth': None, 'decision_tree__min_samples_leaf': 5, 'decision_tree__min_samples_split': 20}\n",
      "Best accuracy for decision_tree: 1.0\n",
      "Best parameters for random_forest: {'random_forest__max_depth': None, 'random_forest__min_samples_leaf': 1, 'random_forest__min_samples_split': 2, 'random_forest__n_estimators': 100}\n",
      "Best accuracy for random_forest: 1.0\n"
     ]
    }
   ],
   "source": [
    "\n",
    "\n",
    "from sklearn.pipeline import Pipeline\n",
    "\n",
    "# 1. Logistic Regression\n",
    "logreg_params = {\n",
    "    'logreg__C': [0.01, 0.1, 1, 10],\n",
    "    'logreg__penalty': ['l2'],\n",
    "    'logreg__solver': ['liblinear']  # Liblinear supports l2\n",
    "}\n",
    "logreg_pipeline = Pipeline([('scaler', StandardScaler()), ('logreg', LogisticRegression())])\n",
    "\n",
    "# 2. K-Nearest Neighbors\n",
    "knn_params = {\n",
    "    'knn__n_neighbors': list(range(1, 21)),\n",
    "    'knn__weights': ['uniform', 'distance'],\n",
    "    'knn__metric': ['euclidean', 'manhattan']\n",
    "}\n",
    "knn_pipeline = Pipeline([('scaler', StandardScaler()), ('knn', KNeighborsClassifier())])\n",
    "\n",
    "# 3. Support Vector Machines (SVM)\n",
    "svm_params = {\n",
    "    'svc__C': [0.1, 1, 10, 100],\n",
    "    'svc__kernel': ['linear', 'rbf'],\n",
    "    'svc__gamma': ['scale', 'auto']\n",
    "}\n",
    "svm_pipeline = Pipeline([('scaler', StandardScaler()), ('svc', SVC())])\n",
    "\n",
    "# 4. Decision Trees\n",
    "tree_params = {\n",
    "    'decision_tree__max_depth': [None, 10, 20, 30],\n",
    "    'decision_tree__min_samples_split': [2, 10, 20],\n",
    "    'decision_tree__min_samples_leaf': [1, 5, 10]\n",
    "}\n",
    "tree_pipeline = Pipeline([('scaler', StandardScaler()), ('decision_tree', DecisionTreeClassifier())])\n",
    "\n",
    "# 5. Random Forest\n",
    "rf_params = {\n",
    "    'random_forest__n_estimators': [100, 200, 300],\n",
    "    'random_forest__max_depth': [None, 10, 20, 30],\n",
    "    'random_forest__min_samples_split': [2, 10, 20],\n",
    "    'random_forest__min_samples_leaf': [1, 5, 10]\n",
    "}\n",
    "rf_pipeline = Pipeline([('scaler', StandardScaler()), ('random_forest', RandomForestClassifier())])\n",
    "\n",
    "# Create a list of all models and their parameter grids\n",
    "models_and_params = [\n",
    "    (logreg_pipeline, logreg_params),\n",
    "    (knn_pipeline, knn_params),\n",
    "    (svm_pipeline, svm_params),\n",
    "    (tree_pipeline, tree_params),\n",
    "    (rf_pipeline, rf_params)\n",
    "]\n",
    "\n",
    "# GridSearch for each model\n",
    "for pipeline, params in models_and_params:\n",
    "    grid_search = GridSearchCV(pipeline, param_grid=params, cv=5, scoring='accuracy')\n",
    "    grid_search.fit(X_train, y_train)\n",
    "    \n",
    "    print(f\"Best parameters for {pipeline.steps[-1][0]}: {grid_search.best_params_}\")\n",
    "    print(f\"Best accuracy for {pipeline.steps[-1][0]}: {grid_search.best_score_}\")\n"
   ]
  },
  {
   "cell_type": "code",
   "execution_count": 49,
   "id": "88d7225e-536c-44f1-ac58-eb8a52472023",
   "metadata": {},
   "outputs": [
    {
     "name": "stdout",
     "output_type": "stream",
     "text": [
      "Logistic Regression CV accuracy: 0.8232 (+/- 0.0214)\n",
      "KNN CV accuracy: 1.0000 (+/- 0.0000)\n",
      "SVC CV accuracy: 1.0000 (+/- 0.0000)\n",
      "Decision Tree CV accuracy: 0.9982 (+/- 0.0036)\n"
     ]
    }
   ],
   "source": [
    "from sklearn.model_selection import cross_val_score\n",
    "X,y=X_train,y_train\n",
    "# Models with best parameters\n",
    "logreg = LogisticRegression(C=10, penalty='l2', solver='liblinear')\n",
    "knn = KNeighborsClassifier(metric='manhattan', n_neighbors=9, weights='uniform')\n",
    "svc = SVC(C=0.1, gamma='scale', kernel='linear')\n",
    "decision_tree = DecisionTreeClassifier(max_depth=None, min_samples_leaf=1, min_samples_split=10)\n",
    "\n",
    "# Perform cross-validation\n",
    "cv = 5  # You can change this to 10 for 10-fold CV\n",
    "\n",
    "# Logistic Regression\n",
    "logreg_scores = cross_val_score(logreg, X, y, cv=cv)\n",
    "print(f'Logistic Regression CV accuracy: {logreg_scores.mean():.4f} (+/- {logreg_scores.std():.4f})')\n",
    "\n",
    "# KNN\n",
    "knn_scores = cross_val_score(knn, X, y, cv=cv)\n",
    "print(f'KNN CV accuracy: {knn_scores.mean():.4f} (+/- {knn_scores.std():.4f})')\n",
    "\n",
    "# SVC\n",
    "svc_scores = cross_val_score(svc, X, y, cv=cv)\n",
    "print(f'SVC CV accuracy: {svc_scores.mean():.4f} (+/- {svc_scores.std():.4f})')\n",
    "\n",
    "# Decision Tree\n",
    "decision_tree_scores = cross_val_score(decision_tree, X, y, cv=cv)\n",
    "print(f'Decision Tree CV accuracy: {decision_tree_scores.mean():.4f} (+/- {decision_tree_scores.std():.4f})')\n"
   ]
  },
  {
   "cell_type": "code",
   "execution_count": 50,
   "id": "0b4dade3-ee8c-40c7-a1ac-5e35876d38c6",
   "metadata": {},
   "outputs": [
    {
     "name": "stdout",
     "output_type": "stream",
     "text": [
      "Logistic Regression Test Accuracy: 0.8286\n",
      "Classification Report for Logistic Regression:\n",
      "              precision    recall  f1-score   support\n",
      "\n",
      "           1       1.00      1.00      1.00        27\n",
      "           2       0.90      0.90      0.90        29\n",
      "           3       0.68      0.62      0.65        34\n",
      "           4       0.65      0.74      0.69        27\n",
      "           5       1.00      0.96      0.98        23\n",
      "\n",
      "    accuracy                           0.83       140\n",
      "   macro avg       0.84      0.84      0.84       140\n",
      "weighted avg       0.83      0.83      0.83       140\n",
      "\n",
      "\n",
      "KNN Test Accuracy: 1.0000\n",
      "Classification Report for KNN:\n",
      "              precision    recall  f1-score   support\n",
      "\n",
      "           1       1.00      1.00      1.00        27\n",
      "           2       1.00      1.00      1.00        29\n",
      "           3       1.00      1.00      1.00        34\n",
      "           4       1.00      1.00      1.00        27\n",
      "           5       1.00      1.00      1.00        23\n",
      "\n",
      "    accuracy                           1.00       140\n",
      "   macro avg       1.00      1.00      1.00       140\n",
      "weighted avg       1.00      1.00      1.00       140\n",
      "\n",
      "\n",
      "SVC Test Accuracy: 1.0000\n",
      "Classification Report for SVC:\n",
      "              precision    recall  f1-score   support\n",
      "\n",
      "           1       1.00      1.00      1.00        27\n",
      "           2       1.00      1.00      1.00        29\n",
      "           3       1.00      1.00      1.00        34\n",
      "           4       1.00      1.00      1.00        27\n",
      "           5       1.00      1.00      1.00        23\n",
      "\n",
      "    accuracy                           1.00       140\n",
      "   macro avg       1.00      1.00      1.00       140\n",
      "weighted avg       1.00      1.00      1.00       140\n",
      "\n",
      "\n",
      "Decision Tree Test Accuracy: 1.0000\n",
      "Classification Report for Decision Tree:\n",
      "              precision    recall  f1-score   support\n",
      "\n",
      "           1       1.00      1.00      1.00        27\n",
      "           2       1.00      1.00      1.00        29\n",
      "           3       1.00      1.00      1.00        34\n",
      "           4       1.00      1.00      1.00        27\n",
      "           5       1.00      1.00      1.00        23\n",
      "\n",
      "    accuracy                           1.00       140\n",
      "   macro avg       1.00      1.00      1.00       140\n",
      "weighted avg       1.00      1.00      1.00       140\n",
      "\n",
      "\n"
     ]
    }
   ],
   "source": [
    "logreg = LogisticRegression(C=10, penalty='l2', solver='liblinear').fit(X_train, y_train)\n",
    "knn = KNeighborsClassifier(metric='manhattan', n_neighbors=9, weights='uniform').fit(X_train, y_train)\n",
    "svc = SVC(C=0.1, gamma='scale', kernel='linear').fit(X_train, y_train)\n",
    "decision_tree = DecisionTreeClassifier(max_depth=None, min_samples_leaf=1, min_samples_split=10).fit(X_train, y_train)\n",
    "\n",
    "# Evaluate on the test set\n",
    "\n",
    "# Logistic Regression\n",
    "logreg_pred = logreg.predict(X_test)\n",
    "print(f\"Logistic Regression Test Accuracy: {accuracy_score(y_test, logreg_pred):.4f}\")\n",
    "print(f\"Classification Report for Logistic Regression:\\n{classification_report(y_test, logreg_pred)}\\n\")\n",
    "\n",
    "# KNN\n",
    "knn_pred = knn.predict(X_test)\n",
    "print(f\"KNN Test Accuracy: {accuracy_score(y_test, knn_pred):.4f}\")\n",
    "print(f\"Classification Report for KNN:\\n{classification_report(y_test, knn_pred)}\\n\")\n",
    "\n",
    "# SVC\n",
    "svc_pred = svc.predict(X_test)\n",
    "print(f\"SVC Test Accuracy: {accuracy_score(y_test, svc_pred):.4f}\")\n",
    "print(f\"Classification Report for SVC:\\n{classification_report(y_test, svc_pred)}\\n\")\n",
    "\n",
    "# Decision Tree\n",
    "decision_tree_pred = decision_tree.predict(X_test)\n",
    "print(f\"Decision Tree Test Accuracy: {accuracy_score(y_test, decision_tree_pred):.4f}\")\n",
    "print(f\"Classification Report for Decision Tree:\\n{classification_report(y_test, decision_tree_pred)}\\n\")"
   ]
  },
  {
   "cell_type": "code",
   "execution_count": 51,
   "id": "f6f260f3-2079-416b-b6ec-65043c2fcd4c",
   "metadata": {},
   "outputs": [
    {
     "name": "stdout",
     "output_type": "stream",
     "text": [
      "Selected features: Index(['usage_time', 'screen_time_per_hr', 'battery_train', 'apps'], dtype='object')\n",
      "Feature ranks: [5 6 1 1 1 1 2 3 4]\n",
      "CPU times: total: 922 ms\n",
      "Wall time: 961 ms\n"
     ]
    }
   ],
   "source": [
    "%%time\n",
    "from sklearn.feature_selection import RFECV\n",
    "from sklearn.metrics import accuracy_score\n",
    "\n",
    "# Instantiate the best model from Step 4 (e.g., Random Forests)\n",
    "best_model =SVC(C=0.1, gamma='scale', kernel='linear').fit(X_train, y_train)\n",
    "\n",
    "# Create the RFECV object and fit it to the training data\n",
    "selector = RFECV(best_model, step=1, cv=5, scoring='accuracy')\n",
    "selector.fit(X_train, y_train)\n",
    "\n",
    "# Get the selected features and their ranks\n",
    "selected_features = X_train.columns[selector.support_]\n",
    "feature_ranks = selector.ranking_\n",
    "\n",
    "print(f\"Selected features: {selected_features}\")\n",
    "print(f\"Feature ranks: {feature_ranks}\")"
   ]
  },
  {
   "cell_type": "code",
   "execution_count": 52,
   "id": "71f2420d-8e8d-4c1d-bf26-5b4fa0c75bc7",
   "metadata": {},
   "outputs": [],
   "source": [
    "selected_features_list = selected_features.tolist()\n",
    "\n",
    "# Remove target variable from the list of selected features if it's present\n",
    "if 'user_behavior' in selected_features_list:\n",
    "    selected_features_list.remove('user_behavior')\n",
    "\n",
    "# Create new dataframes with only the selected features\n",
    "X_train_selected = X_train[selected_features_list]\n",
    "X_test_selected = X_test[selected_features_list]"
   ]
  },
  {
   "cell_type": "code",
   "execution_count": 53,
   "id": "a649316d-bb1c-4b2e-b941-0f74bb0b2859",
   "metadata": {},
   "outputs": [
    {
     "name": "stdout",
     "output_type": "stream",
     "text": [
      "Test accuracy with selected features: 1.0\n"
     ]
    }
   ],
   "source": [
    "best_model=best_model.fit(X_train_selected, y_train)\n",
    "\n",
    "# Make predictions on the test set\n",
    "y_pred = best_model.predict(X_test_selected)\n",
    "\n",
    "# Evaluate the model using accuracy_score\n",
    "from sklearn.metrics import accuracy_score\n",
    "\n",
    "test_accuracy = accuracy_score(y_test, y_pred)\n",
    "print(f\"Test accuracy with selected features: {test_accuracy}\")"
   ]
  },
  {
   "cell_type": "code",
   "execution_count": 54,
   "id": "a37dccbf-5610-4819-9f97-32eb908d5d22",
   "metadata": {},
   "outputs": [],
   "source": [
    "import json\n",
    "selected_features_list = selected_features.tolist()\n",
    "\n",
    "with open(\"selected_features.json\", \"w\") as f:\n",
    "    json.dump(selected_features_list, f)"
   ]
  },
  {
   "cell_type": "code",
   "execution_count": 55,
   "id": "ea7650b4-fe7b-4275-a0d7-5acb85a6d076",
   "metadata": {},
   "outputs": [
    {
     "data": {
      "text/plain": [
       "['svm_model.pkl']"
      ]
     },
     "execution_count": 55,
     "metadata": {},
     "output_type": "execute_result"
    }
   ],
   "source": [
    "import joblib\n",
    "\n",
    "# Assuming the model is trained already\n",
    "model = SVC(C=1.0, kernel='rbf', probability=True)  # Add probability=True to get probability predictions\n",
    "model.fit(X_train, y_train)\n",
    "\n",
    "# Save the model\n",
    "joblib.dump(model, 'svm_model.pkl')"
   ]
  },
  {
   "cell_type": "code",
   "execution_count": 56,
   "id": "12be79b7-1d31-4d75-8ca3-fe514346a23e",
   "metadata": {},
   "outputs": [
    {
     "data": {
      "text/plain": [
       "['scaler.pkl']"
      ]
     },
     "execution_count": 56,
     "metadata": {},
     "output_type": "execute_result"
    }
   ],
   "source": [
    "joblib.dump(scaler, 'scaler.pkl') "
   ]
  },
  {
   "cell_type": "code",
   "execution_count": 59,
   "id": "0684c5e9-a1ae-4ef6-b737-6294c5533865",
   "metadata": {},
   "outputs": [
    {
     "data": {
      "text/plain": [
       "device_model            int32\n",
       "os                      int32\n",
       "usage_time              int64\n",
       "screen_time_per_hr    float64\n",
       "battery_train           int64\n",
       "apps                    int64\n",
       "data_used               int64\n",
       "Age                     int64\n",
       "Gender                  int32\n",
       "user_behavior           int64\n",
       "dtype: object"
      ]
     },
     "execution_count": 59,
     "metadata": {},
     "output_type": "execute_result"
    }
   ],
   "source": [
    "data.dtypes"
   ]
  },
  {
   "cell_type": "code",
   "execution_count": 62,
   "id": "574401e9-3714-4927-8d8e-10b82a0d4913",
   "metadata": {},
   "outputs": [
    {
     "data": {
      "text/plain": [
       "device_model\n",
       "3    146\n",
       "4    146\n",
       "0    142\n",
       "1    133\n",
       "2    133\n",
       "Name: count, dtype: int64"
      ]
     },
     "execution_count": 62,
     "metadata": {},
     "output_type": "execute_result"
    }
   ],
   "source": [
    "data.device_model.value_counts()"
   ]
  },
  {
   "cell_type": "code",
   "execution_count": 63,
   "id": "0bf918ea-d4e0-4de9-8737-a44cced09433",
   "metadata": {},
   "outputs": [
    {
     "data": {
      "text/plain": [
       "os\n",
       "0    554\n",
       "1    146\n",
       "Name: count, dtype: int64"
      ]
     },
     "execution_count": 63,
     "metadata": {},
     "output_type": "execute_result"
    }
   ],
   "source": [
    "data.os.value_counts()"
   ]
  },
  {
   "cell_type": "code",
   "execution_count": null,
   "id": "bba04270-3837-45c9-a401-bd90bc6357f3",
   "metadata": {},
   "outputs": [],
   "source": []
  }
 ],
 "metadata": {
  "kernelspec": {
   "display_name": "Python 3 (ipykernel)",
   "language": "python",
   "name": "python3"
  },
  "language_info": {
   "codemirror_mode": {
    "name": "ipython",
    "version": 3
   },
   "file_extension": ".py",
   "mimetype": "text/x-python",
   "name": "python",
   "nbconvert_exporter": "python",
   "pygments_lexer": "ipython3",
   "version": "3.11.7"
  }
 },
 "nbformat": 4,
 "nbformat_minor": 5
}
